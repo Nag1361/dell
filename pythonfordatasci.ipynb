{
  "nbformat": 4,
  "nbformat_minor": 0,
  "metadata": {
    "colab": {
      "provenance": [],
      "include_colab_link": true
    },
    "kernelspec": {
      "name": "python3",
      "display_name": "Python 3"
    },
    "language_info": {
      "name": "python"
    }
  },
  "cells": [
    {
      "cell_type": "markdown",
      "metadata": {
        "id": "view-in-github",
        "colab_type": "text"
      },
      "source": [
        "<a href=\"https://colab.research.google.com/github/Nag1361/dell/blob/main/pythonfordatasci.ipynb\" target=\"_parent\"><img src=\"https://colab.research.google.com/assets/colab-badge.svg\" alt=\"Open In Colab\"/></a>"
      ]
    },
    {
      "cell_type": "code",
      "execution_count": null,
      "metadata": {
        "colab": {
          "base_uri": "https://localhost:8080/"
        },
        "id": "wgfJTSBD56D4",
        "outputId": "f2ac4de4-237b-436f-97a0-77260372c52e"
      },
      "outputs": [
        {
          "output_type": "stream",
          "name": "stdout",
          "text": [
            "13\n",
            "3.3333333333333335\n",
            "3\n",
            "1\n",
            "1000\n",
            "8\n",
            "True\n",
            "False\n",
            "False\n",
            "True\n",
            "False\n",
            "enter your namenaga\n",
            "enter your birthday year2005\n",
            "your name is naga\n",
            "your age is 18\n",
            "your birthday year is 2005\n"
          ]
        }
      ],
      "source": [
        "a = 10\n",
        "b = 3\n",
        "print(a + b)\n",
        "print(a / b)\n",
        "print(a // b)\n",
        "print(a % b)\n",
        "print(a ** b)\n",
        "x = 5\n",
        "x += 3\n",
        "print(x)\n",
        "p = 7\n",
        "q = 7\n",
        "print(p == q)\n",
        "print(p > q)\n",
        "is_sunny = True\n",
        "is_warm = False\n",
        "print(is_sunny and is_warm)\n",
        "print(is_sunny or is_warm)\n",
        "print(not is_sunny)\n",
        "name=input(\"enter your name\")\n",
        "birthday_year=int(input(\"enter your birthday year\"))\n",
        "print(\"your name is \",name)\n",
        "print(\"your age is\",age)\n",
        "print(\"your birthday year is\",birthday_year)"
      ]
    },
    {
      "cell_type": "code",
      "source": [
        "#greatest of three numbers\n",
        "c = 5 # Define c with a value\n",
        "if a>b and a>c:\n",
        "    print(\"a is greatest\")\n",
        "elif b>a and b>c:\n",
        "    print(\"b is greatest\")\n",
        "else:\n",
        "    print(\"c is greatest\")"
      ],
      "metadata": {
        "colab": {
          "base_uri": "https://localhost:8080/"
        },
        "id": "neZEi-sn-Xzo",
        "outputId": "37c6724c-f263-43e7-e22e-79964a142659"
      },
      "execution_count": null,
      "outputs": [
        {
          "output_type": "stream",
          "name": "stdout",
          "text": [
            "a is greatest\n"
          ]
        }
      ]
    },
    {
      "cell_type": "code",
      "source": [
        "#looping statements\n",
        "for i in range(1,11):\n",
        "    print(i)\n"
      ],
      "metadata": {
        "colab": {
          "base_uri": "https://localhost:8080/"
        },
        "id": "okAGZ8w8_KLU",
        "outputId": "204f9d68-d5e4-43bd-d723-4642b011083b"
      },
      "execution_count": null,
      "outputs": [
        {
          "output_type": "stream",
          "name": "stdout",
          "text": [
            "1\n",
            "2\n",
            "3\n",
            "4\n",
            "5\n",
            "6\n",
            "7\n",
            "8\n",
            "9\n",
            "10\n"
          ]
        }
      ]
    },
    {
      "cell_type": "code",
      "source": [
        "#loop controlling statements\n",
        "for i in range(1,5):\n",
        "    if i==5:\n",
        "        break\n",
        "    print(i)"
      ],
      "metadata": {
        "colab": {
          "base_uri": "https://localhost:8080/"
        },
        "id": "kmoS-7UkAfEj",
        "outputId": "97e97429-c383-4b43-8bd8-27eccd14a174"
      },
      "execution_count": null,
      "outputs": [
        {
          "output_type": "stream",
          "name": "stdout",
          "text": [
            "1\n",
            "2\n",
            "3\n",
            "4\n"
          ]
        }
      ]
    },
    {
      "cell_type": "code",
      "source": [
        "#even or odd\n",
        "for i in range(1,11):\n",
        "    if i%2==0:\n",
        "        print(i,\"is even\")\n",
        "    else:\n",
        "        print(i,\"is odd\")"
      ],
      "metadata": {
        "colab": {
          "base_uri": "https://localhost:8080/"
        },
        "id": "QuuXWrb4BHfP",
        "outputId": "2d257a8c-ed9a-4f5a-8112-dec9b6277bf1"
      },
      "execution_count": null,
      "outputs": [
        {
          "output_type": "stream",
          "name": "stdout",
          "text": [
            "1 is odd\n",
            "2 is even\n",
            "3 is odd\n",
            "4 is even\n",
            "5 is odd\n",
            "6 is even\n",
            "7 is odd\n",
            "8 is even\n",
            "9 is odd\n",
            "10 is even\n"
          ]
        }
      ]
    },
    {
      "cell_type": "code",
      "source": [],
      "metadata": {
        "id": "jIdNorClCT0j"
      },
      "execution_count": null,
      "outputs": []
    }
  ]
}