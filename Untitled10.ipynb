{
  "nbformat": 4,
  "nbformat_minor": 0,
  "metadata": {
    "colab": {
      "provenance": [],
      "authorship_tag": "ABX9TyPo7ZwRlB9mcolbEh7DNc+F",
      "include_colab_link": true
    },
    "kernelspec": {
      "name": "python3",
      "display_name": "Python 3"
    },
    "language_info": {
      "name": "python"
    }
  },
  "cells": [
    {
      "cell_type": "markdown",
      "metadata": {
        "id": "view-in-github",
        "colab_type": "text"
      },
      "source": [
        "<a href=\"https://colab.research.google.com/github/Nag1361/dell/blob/main/Untitled10.ipynb\" target=\"_parent\"><img src=\"https://colab.research.google.com/assets/colab-badge.svg\" alt=\"Open In Colab\"/></a>"
      ]
    },
    {
      "cell_type": "code",
      "execution_count": null,
      "metadata": {
        "colab": {
          "base_uri": "https://localhost:8080/"
        },
        "id": "xSYiG9nzdTZk",
        "outputId": "c55f55af-b709-4f96-ca26-bf8fe22868d1"
      },
      "outputs": [
        {
          "output_type": "stream",
          "name": "stdout",
          "text": [
            " welcome to the password generator\n"
          ]
        }
      ],
      "source": [
        "print(\" welcome to the password generator\");\n",
        "import random\n",
        "letter=['a','b','c','d','e','f','g','h','i','j','k'\n",
        "        ,'l','m','n','o','p','q','r','s','t','u','v','w','x','y','z',\n",
        "        'A','B','C','D','E','F','G','H','I','J','K'\n",
        "        ,'L','M','N','O','P','Q','R','S','T','U','V','W','X','Y','Z']\n",
        "number=['0','1','2','3','4','5','6','7','8','9']\n",
        "symbol=['!','@','#','$','%','^','&','*','(',')','-','_','+','=','{','}']\n",
        "n_letter=int(input(\"how many cap letters do u want:\\n \"))\n",
        "n_symbols=int(input(\"how many   symbols  do u want:\\n\"))\n",
        "n_number=int(input(\"how many numbers do u wants:\\n\"))\n",
        "password=\" \"\n",
        "for i in range(1,n_letter+1):\n",
        "        char = random.choice(letter)\n",
        "        password = password+char\n",
        "for i in range(1,n_number+1):\n",
        "                char=random.choice(number)\n",
        "                password=password+char\n",
        "for i in range(1,n_symbols+1):\n",
        "        char=random.choice(symbol)\n",
        "        password=password+char\n",
        "print(password)"
      ]
    }
  ]
}